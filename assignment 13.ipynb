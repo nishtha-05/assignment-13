{
 "cells": [
  {
   "cell_type": "code",
   "execution_count": null,
   "id": "92b3db8d-627e-4b34-98a7-6b9cc1246abe",
   "metadata": {},
   "outputs": [],
   "source": [
    "1. \n",
    "A database is an organized collection of structured information, or data, typically stored electronically in a computer system. \n",
    "a database is usually controlled by a database management system\n",
    "\n",
    "diffenence-\n",
    "MySQL is a relational database management system that uses SQL. \n",
    "whereas SQL is primarily used to query and operate database systems, MySQL enables you to store, handle, delete, and modify data in an organized way.\n",
    "As for NoSQL, it is a non-relational database that does not use SQL"
   ]
  },
  {
   "cell_type": "code",
   "execution_count": null,
   "id": "96f0da6b-caf4-4668-861c-cb2a80f38049",
   "metadata": {},
   "outputs": [],
   "source": [
    "2.\n",
    "DDL-A data definition language  is a computer language used to create and modify the structure of database objects in a database. \n",
    "these database objects include views, schemas, tables, indexes, etc.\n",
    "create- this command is used to create database.\n",
    "drop-this command is used to delete the table\n",
    "alter-used to add ,delete,mofify column in existing table\n",
    "truncate- it deletes the data inside a table, but not the table itself.\n"
   ]
  },
  {
   "cell_type": "code",
   "execution_count": null,
   "id": "1bed16d7-8cd1-4b37-bd4d-9a07f284b391",
   "metadata": {},
   "outputs": [],
   "source": [
    "3.\n",
    "dml- it is used to do manipulation in the database\n",
    "\n",
    "insert-insert data in to the table\n",
    "update-uded to update exsiting data in the database\n",
    "delete-used to delete the data"
   ]
  },
  {
   "cell_type": "code",
   "execution_count": null,
   "id": "292b0170-2700-4d1c-85bf-2b0a54efc328",
   "metadata": {},
   "outputs": [],
   "source": [
    "4.\n",
    "dql-used to do queries in the database to reterieve data in the organised way\n",
    "example-\n",
    "SELECT CustomerName, City FROM Customers;\n"
   ]
  },
  {
   "cell_type": "code",
   "execution_count": null,
   "id": "3cbfd8df-4693-4756-9a61-85a3f38d2c0a",
   "metadata": {},
   "outputs": [],
   "source": [
    "5.\n",
    "primary key- the primary key is the key by which we can uniquely idnetify the data inthe column.\n",
    "for example roll no will be the unqiue for every student\n",
    "foreign key - it is used to build relationship between two table.if on key is primary key then it will act as the \n",
    "foreign key for the other table"
   ]
  },
  {
   "cell_type": "code",
   "execution_count": null,
   "id": "ec428ce8-fae6-488f-b5d5-c4b8451c3dab",
   "metadata": {},
   "outputs": [],
   "source": [
    "import mysql.connector\n",
    "\n",
    "mydb = mysql.connector.connect(\n",
    "  host=\"localhost\",\n",
    "  user=\"abc\",\n",
    "  password=\"password\"\n",
    ")\n",
    "print(mydb)\n",
    "mycursor = mydb.cursor()\n",
    "mycursor.execute(\"SHOW DATABASES\")\n",
    "for x in mycursor:\n",
    "  print(x)\n",
    "\n",
    "A cursor is an object which helps to execute the query \n",
    "and fetch the records from the database"
   ]
  },
  {
   "cell_type": "code",
   "execution_count": null,
   "id": "96b6ebbd-522d-4c93-a5c5-7b34ea72c644",
   "metadata": {},
   "outputs": [],
   "source": []
  }
 ],
 "metadata": {
  "kernelspec": {
   "display_name": "Python 3 (ipykernel)",
   "language": "python",
   "name": "python3"
  },
  "language_info": {
   "codemirror_mode": {
    "name": "ipython",
    "version": 3
   },
   "file_extension": ".py",
   "mimetype": "text/x-python",
   "name": "python",
   "nbconvert_exporter": "python",
   "pygments_lexer": "ipython3",
   "version": "3.10.8"
  }
 },
 "nbformat": 4,
 "nbformat_minor": 5
}
